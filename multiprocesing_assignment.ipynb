{
 "cells": [
  {
   "cell_type": "markdown",
   "id": "3d3a21cd-72f6-421e-ab53-7b51da420bc9",
   "metadata": {},
   "source": [
    "Question- 1\n",
    "ans-"
   ]
  },
  {
   "cell_type": "markdown",
   "id": "1a280787-e2ce-4c4a-ae87-1b828df60433",
   "metadata": {},
   "source": [
    "\"Multiprocessing\"  in python refers to create and run multiple processes by utilizing multiple CPUs and CPU cores.\n",
    "It is the technique used to achieve the parallelism and to distribute the workload across multiple processes.\n",
    "\n",
    "\n",
    "why it is used -;\n",
    "1. it is useful in improving the performance of CPU bound tasks.\n",
    "2. Multiprocessing enables the efficient utilization of computer power by distributing the workload \n",
    "   across the multiple CPUs and CPU cores.\n",
    "3. By offloading the intensive tasks to separate process, it keeps main thread or process ready to\n",
    "   respond.\n",
    "4. Each process in multiprocessing runs in its own memory space and has its own python interpreter\n",
    "   this provides the isolation between the processes and prevent them from interfering with each others\n",
    "    memory.\n",
    "                \n",
    "               "
   ]
  },
  {
   "cell_type": "code",
   "execution_count": null,
   "id": "4d1283ee-4e10-4fdf-bc2a-321e1aa2404b",
   "metadata": {},
   "outputs": [],
   "source": []
  },
  {
   "cell_type": "code",
   "execution_count": null,
   "id": "21485465-50d2-4a29-b0dc-a53841af575e",
   "metadata": {},
   "outputs": [],
   "source": []
  },
  {
   "cell_type": "markdown",
   "id": "f088c900-76d8-43f5-9b96-1dc9adf25cb0",
   "metadata": {},
   "source": [
    "Question - 2\n",
    "ans-"
   ]
  },
  {
   "cell_type": "markdown",
   "id": "c660570e-31aa-4537-ad0b-658030de9fe2",
   "metadata": {},
   "source": [
    "The main differences between multiprocessing and multithreading in Python are as follows:\n",
    "\n",
    "1.Execution Model:\n",
    "\n",
    "Multiprocessing: In multiprocessing, multiple processes are created, each with its own memory space and Python interpreter. Each process runs independently, executing tasks concurrently on different CPUs or CPU cores.\n",
    "Multithreading: In multithreading, multiple threads are created within a single process, sharing the same memory space and Python interpreter. Threads run concurrently within the process, but on a single CPU or CPU core (due to the Global Interpreter Lock in CPython).\n",
    "\n",
    "2.Concurrency:\n",
    "\n",
    "Multiprocessing: Multiprocessing achieves true parallelism by running processes simultaneously on separate CPUs or CPU cores. Each process has its own memory and resources, and they communicate through inter-process communication (IPC) mechanisms.\n",
    "Multithreading: Multithreading achieves concurrency but not true parallelism. Threads within a process share the same memory and resources, and they execute concurrently, taking turns based on the scheduler. Threads communicate through shared memory and can directly access shared data.\n",
    "\n",
    "3.Communication and Synchronization:\n",
    "\n",
    "Multiprocessing: Inter-process communication (IPC) mechanisms like pipes, queues, or shared memory are typically used for communication and data sharing between processes.\n",
    "Multithreading: Threads share the same memory space, making communication and data sharing between threads simpler. However, proper synchronization mechanisms like locks, semaphores, or condition variables are needed to prevent race conditions and ensure thread safety.\n",
    "\n",
    "4 Memory Overhead:\n",
    "\n",
    "Multiprocessing: Each process has its own memory space, resulting in additional memory overhead for each created process.\n",
    "Multithreading: Threads within a process share the same memory space, resulting in lower memory overhead compared to multiprocessing.\n",
    "\n",
    "5 Use Cases:\n",
    "\n",
    "Multiprocessing: Multiprocessing is suitable for CPU-bound tasks that can be divided into independent parts and executed in parallel. It is beneficial for leveraging multiple CPU cores and achieving better performance on those tasks.\n",
    "Multithreading: Multithreading is suitable for I/O-bound tasks or tasks that involve waiting for external resources. It can enhance responsiveness by allowing threads to execute concurrently while waiting for I/O operations to complete."
   ]
  },
  {
   "cell_type": "code",
   "execution_count": null,
   "id": "f9f00952-4923-4f88-a3c0-bb8de7322095",
   "metadata": {},
   "outputs": [],
   "source": []
  },
  {
   "cell_type": "code",
   "execution_count": null,
   "id": "88ad59f7-d7fa-4a48-8b7e-d4ef2e293221",
   "metadata": {},
   "outputs": [],
   "source": []
  },
  {
   "cell_type": "code",
   "execution_count": null,
   "id": "1b9556f9-5f66-4495-80d1-fb41962dada6",
   "metadata": {},
   "outputs": [],
   "source": []
  },
  {
   "cell_type": "markdown",
   "id": "218dc283-e0e6-410c-8bc9-ae952d0e415e",
   "metadata": {},
   "source": [
    "Question- 3\n",
    "ans-"
   ]
  },
  {
   "cell_type": "code",
   "execution_count": 1,
   "id": "b1d20491-afb8-4158-9169-e16e21059850",
   "metadata": {},
   "outputs": [
    {
     "name": "stdout",
     "output_type": "stream",
     "text": [
      "this is how a multiprocessing code can be executed\n",
      "this is my multiprocessing program\n"
     ]
    }
   ],
   "source": [
    "import multiprocessing\n",
    "\n",
    "def meth1():\n",
    "    print(\"this is my multiprocessing program\")\n",
    "    \n",
    "    \n",
    "if __name__ == \"__main__\":\n",
    "    process = multiprocessing.Process(target = meth1)\n",
    "    print(\"this is how a multiprocessing code can be executed\")\n",
    "    \n",
    "    process.start()\n",
    "    process.join()"
   ]
  },
  {
   "cell_type": "code",
   "execution_count": null,
   "id": "ea80a903-f418-41e8-92bd-038feda24a4e",
   "metadata": {},
   "outputs": [],
   "source": []
  },
  {
   "cell_type": "code",
   "execution_count": null,
   "id": "aebb667c-3a82-4943-94fe-f8b5258e6b97",
   "metadata": {},
   "outputs": [],
   "source": []
  },
  {
   "cell_type": "code",
   "execution_count": null,
   "id": "e8b0a401-776f-4b5d-9892-b7f797b94c71",
   "metadata": {},
   "outputs": [],
   "source": []
  },
  {
   "cell_type": "markdown",
   "id": "fea22fad-8138-472f-88ef-5bf7e1d1892c",
   "metadata": {},
   "source": [
    "Question - 4\n",
    "ans-"
   ]
  },
  {
   "cell_type": "markdown",
   "id": "71ebe683-c764-49ac-8e66-de8f88dfa257",
   "metadata": {},
   "source": [
    "In Python, a multiprocessing pool refers to a pool of worker processes that are created and managed by the multiprocessing module. The purpose of a multiprocessing pool is to distribute tasks among a group of worker processes, allowing for parallel execution and efficient utilization of available resources.\n",
    "\n",
    "The multiprocessing 'pool' is used for the following reasons:\n",
    "\n",
    "1.Parallel Execution: The pool allows you to execute multiple tasks concurrently by distributing them among the worker processes. This enables parallel execution, where multiple tasks are processed simultaneously, resulting in faster overall execution time.\n",
    "\n",
    "2.Resource Management: The 'pool' takes care of managing the worker processes, including their creation, termination, and communication. It automatically manages the process pool and ensures that the number of processes does not exceed the specified limit, helping to control resource utilization.\n",
    "\n",
    "3.Simplified Task Submission: With the pool, you can submit tasks for execution using a simple interface, such as the 'apply()', 'map()', or 'imap()' methods. These methods abstract away the complexity of managing individual processes and provide a convenient way to parallelize computations or apply a function to a large dataset.\n",
    "\n",
    "4.Result Retrieval: The pool provides methods to retrieve the results of the executed tasks, such as the get() method or using iterator-based approaches like 'imap()' and 'imap_unordered()'. These methods allow you to collect and process the results returned by the worker processes."
   ]
  },
  {
   "cell_type": "code",
   "execution_count": null,
   "id": "2378faa0-d573-467a-a827-78341616ce8b",
   "metadata": {},
   "outputs": [],
   "source": []
  },
  {
   "cell_type": "code",
   "execution_count": null,
   "id": "e427211e-43ac-4f50-92df-4a5cd343fbad",
   "metadata": {},
   "outputs": [],
   "source": []
  },
  {
   "cell_type": "code",
   "execution_count": null,
   "id": "739ded1d-5eb1-42d1-8a1d-3bd07dbc9691",
   "metadata": {},
   "outputs": [],
   "source": []
  },
  {
   "cell_type": "markdown",
   "id": "2e72f412-393f-4b44-9b98-e1a2eec7fbce",
   "metadata": {},
   "source": [
    "Question-5\n",
    "ans-"
   ]
  },
  {
   "cell_type": "markdown",
   "id": "0a173914-df8a-43ea-9493-58551e3f10d2",
   "metadata": {},
   "source": [
    "To create a pool of worker processes in Python using the multiprocessing module, we can follow these steps:\n",
    "\n",
    "1.Import the multiprocessing module: Begin by importing the multiprocessing module in your Python script.\n",
    "\n",
    "2.Define the task/function to be executed by the worker processes: Define the function or task that you want the worker processes to execute concurrently. This function should represent the task that needs to be parallelized.\n",
    "\n",
    "3.Create a Pool object: Instantiate a Pool object from the multiprocessing module. This Pool object represents the pool of worker processes that will execute the defined task.\n",
    "\n",
    "4.Specify the number of worker processes: Optionally, you can specify the number of worker processes to be created in the pool. By default, it will use the number of CPU cores available on your system. You can adjust this value based on the nature of your task and available resources.\n",
    "\n",
    "5.Submit tasks to the pool: Use the methods provided by the Pool object (such as apply(), map(), or imap()) to submit tasks to the pool. These methods allow you to submit the task/function along with any required arguments.\n",
    "\n",
    "6.Close the pool: After submitting all the tasks, call the close() method on the Pool object. This indicates that no more tasks will be submitted to the pool.\n",
    "\n",
    "7.Wait for tasks to complete: To ensure that the main program waits for all tasks to finish, call the join() method on the Pool object. This will block the execution until all tasks in the pool are completed.\n",
    "\n",
    "8.Retrieve and process results (optional): Depending on the task and the method used for task submission, you may need to retrieve and process the results returned by the worker processes."
   ]
  },
  {
   "cell_type": "code",
   "execution_count": 6,
   "id": "79c10f2e-a221-48c2-a2ab-444075e026b6",
   "metadata": {},
   "outputs": [
    {
     "name": "stdout",
     "output_type": "stream",
     "text": [
      "[1, 8, 27, 64, 125, 216, 343, 512]\n"
     ]
    }
   ],
   "source": [
    "import multiprocessing\n",
    "\n",
    "def cubes_number(n):\n",
    "    return n**3\n",
    "\n",
    "if __name__== \"__main__\":\n",
    "    \n",
    "    cubes = multiprocessing.Pool(processes = 8)\n",
    "    numbers = [1,2,3,4,5,6,7,8]\n",
    "    \n",
    "    result = cubes.map(cubes_number , numbers)\n",
    "    \n",
    "    cubes.close()\n",
    "    \n",
    "    \n",
    "    cubes.join()\n",
    "    \n",
    "    print(result)\n",
    "    "
   ]
  },
  {
   "cell_type": "code",
   "execution_count": null,
   "id": "866e6c29-68ea-4f43-825d-120575420eed",
   "metadata": {},
   "outputs": [],
   "source": []
  },
  {
   "cell_type": "code",
   "execution_count": null,
   "id": "a016e510-47d6-430c-9baa-cfdf38905ef3",
   "metadata": {},
   "outputs": [],
   "source": []
  },
  {
   "cell_type": "markdown",
   "id": "c1dc420c-95c6-40d1-835c-bb27c468a79c",
   "metadata": {},
   "source": [
    "Question- 6\n",
    "ans- "
   ]
  },
  {
   "cell_type": "code",
   "execution_count": 25,
   "id": "a474a666-e4e4-4e6d-bc98-ea60e94df58a",
   "metadata": {},
   "outputs": [
    {
     "name": "stdout",
     "output_type": "stream",
     "text": [
      "Number:2\n",
      "Number:4\n",
      "Number:6\n",
      "Number:8\n"
     ]
    }
   ],
   "source": [
    "import multiprocessing\n",
    "\n",
    "def print_number(number):\n",
    "    print(f\"Number:{number}\")\n",
    "    \n",
    "if __name__ ==\"__main__\":\n",
    "    \n",
    "    numbers = [2,4,6,8]\n",
    "    \n",
    "    processes = []\n",
    "    \n",
    "    for number in numbers:\n",
    "        process = multiprocessing.Process(target = print_number , args = (number ,))\n",
    "        \n",
    "        processes.append(process)\n",
    "        \n",
    "        process.start()\n",
    "        \n",
    "    for process in processes:\n",
    "        process.join()\n",
    "\n",
    "            \n",
    "            "
   ]
  },
  {
   "cell_type": "code",
   "execution_count": null,
   "id": "ec5342f3-92f1-4a85-8de9-47ff04ab4370",
   "metadata": {},
   "outputs": [],
   "source": []
  }
 ],
 "metadata": {
  "kernelspec": {
   "display_name": "Python 3 (ipykernel)",
   "language": "python",
   "name": "python3"
  },
  "language_info": {
   "codemirror_mode": {
    "name": "ipython",
    "version": 3
   },
   "file_extension": ".py",
   "mimetype": "text/x-python",
   "name": "python",
   "nbconvert_exporter": "python",
   "pygments_lexer": "ipython3",
   "version": "3.10.8"
  }
 },
 "nbformat": 4,
 "nbformat_minor": 5
}
